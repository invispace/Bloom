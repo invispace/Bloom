{
  "cells": [
    {
      "cell_type": "markdown",
      "source": [
        "https://huggingface.co/bigscience/bloom"
      ],
      "metadata": {
        "id": "A3T2yutq9-Ik"
      }
    },
    {
      "cell_type": "code",
      "execution_count": 36,
      "metadata": {
        "id": "eIz87ZVDjbMp"
      },
      "outputs": [],
      "source": [
        "! pip install transformers -q"
      ]
    },
    {
      "cell_type": "code",
      "source": [
        "!nvidia-smi"
      ],
      "metadata": {
        "colab": {
          "base_uri": "https://localhost:8080/"
        },
        "id": "v43tmLlx_tjr",
        "outputId": "4cf52fb2-7470-45cb-cdc5-66271ff8bce1"
      },
      "execution_count": 37,
      "outputs": [
        {
          "output_type": "stream",
          "name": "stdout",
          "text": [
            "Fri Oct  7 02:02:08 2022       \n",
            "+-----------------------------------------------------------------------------+\n",
            "| NVIDIA-SMI 460.32.03    Driver Version: 460.32.03    CUDA Version: 11.2     |\n",
            "|-------------------------------+----------------------+----------------------+\n",
            "| GPU  Name        Persistence-M| Bus-Id        Disp.A | Volatile Uncorr. ECC |\n",
            "| Fan  Temp  Perf  Pwr:Usage/Cap|         Memory-Usage | GPU-Util  Compute M. |\n",
            "|                               |                      |               MIG M. |\n",
            "|===============================+======================+======================|\n",
            "|   0  Tesla T4            Off  | 00000000:00:04.0 Off |                    0 |\n",
            "| N/A   50C    P0    27W /  70W |  15012MiB / 15109MiB |      0%      Default |\n",
            "|                               |                      |                  N/A |\n",
            "+-------------------------------+----------------------+----------------------+\n",
            "                                                                               \n",
            "+-----------------------------------------------------------------------------+\n",
            "| Processes:                                                                  |\n",
            "|  GPU   GI   CI        PID   Type   Process name                  GPU Memory |\n",
            "|        ID   ID                                                   Usage      |\n",
            "|=============================================================================|\n",
            "+-----------------------------------------------------------------------------+\n"
          ]
        }
      ]
    },
    {
      "cell_type": "code",
      "execution_count": 38,
      "metadata": {
        "id": "C0AoF5RNjtxH"
      },
      "outputs": [],
      "source": [
        "from transformers import AutoModelForCausalLM, AutoTokenizer, set_seed\n"
      ]
    },
    {
      "cell_type": "code",
      "execution_count": 39,
      "metadata": {
        "id": "5lj8YSdPkI93"
      },
      "outputs": [],
      "source": [
        "import torch\n",
        "torch.set_default_tensor_type(torch.cuda.FloatTensor)\n"
      ]
    },
    {
      "cell_type": "code",
      "execution_count": 40,
      "metadata": {
        "id": "pg9Ddh0CjgyS"
      },
      "outputs": [],
      "source": [
        "model = AutoModelForCausalLM.from_pretrained(\"bigscience/bloom-1b1\", use_cache=True)\n",
        "tokenizer = AutoTokenizer.from_pretrained(\"bigscience/bloom-1b1\")"
      ]
    },
    {
      "cell_type": "code",
      "execution_count": 41,
      "metadata": {
        "id": "G0u6eNnVjuFH"
      },
      "outputs": [],
      "source": [
        "set_seed(424242)"
      ]
    },
    {
      "cell_type": "code",
      "execution_count": 42,
      "metadata": {
        "colab": {
          "base_uri": "https://localhost:8080/",
          "height": 35
        },
        "id": "yCFjM0zSmD99",
        "outputId": "e73e4434-b0e5-4ca6-d3e7-8193d19a9d7d"
      },
      "outputs": [
        {
          "output_type": "execute_result",
          "data": {
            "text/plain": [
              "'BloomForCausalLM'"
            ],
            "application/vnd.google.colaboratory.intrinsic+json": {
              "type": "string"
            }
          },
          "metadata": {},
          "execution_count": 42
        }
      ],
      "source": [
        " model.__class__.__name__"
      ]
    },
    {
      "cell_type": "code",
      "source": [
        "blogpost_title = 'Depression in senior citizens' # replace this with your own blogpost title"
      ],
      "metadata": {
        "id": "4UJt_JElsQHU"
      },
      "execution_count": 43,
      "outputs": []
    },
    {
      "cell_type": "code",
      "execution_count": 44,
      "metadata": {
        "id": "1z1pkVUEkuL2"
      },
      "outputs": [],
      "source": [
        "prompt = f'This is a blog post on {blogpost_title} \\n {blogpost_title} is very important '"
      ]
    },
    {
      "cell_type": "code",
      "source": [
        "prompt"
      ],
      "metadata": {
        "colab": {
          "base_uri": "https://localhost:8080/",
          "height": 35
        },
        "id": "RSGo8RQWA4ew",
        "outputId": "632b71a0-7b52-40ba-a3e6-16636f044cfd"
      },
      "execution_count": 45,
      "outputs": [
        {
          "output_type": "execute_result",
          "data": {
            "text/plain": [
              "'This is a blog post on Depression in senior citizens \\n Depression in senior citizens is very important '"
            ],
            "application/vnd.google.colaboratory.intrinsic+json": {
              "type": "string"
            }
          },
          "metadata": {},
          "execution_count": 45
        }
      ]
    },
    {
      "cell_type": "code",
      "execution_count": 46,
      "metadata": {
        "id": "pAZr9_6WlIeT"
      },
      "outputs": [],
      "source": [
        "input_ids = tokenizer(prompt, return_tensors=\"pt\").to(0)"
      ]
    },
    {
      "cell_type": "code",
      "source": [
        "sample = model.generate(**input_ids, max_length=2000,  top_k=1, temperature=0.9, repetition_penalty = 2.0)\n"
      ],
      "metadata": {
        "id": "eXH7yWct6sfe"
      },
      "execution_count": 47,
      "outputs": []
    },
    {
      "cell_type": "code",
      "source": [
        "print(tokenizer.decode(sample[0], truncate_before_pattern=[r\"\\n\\n^#\", \"^'''\", \"\\n\\n\\n\"]))"
      ],
      "metadata": {
        "colab": {
          "base_uri": "https://localhost:8080/"
        },
        "id": "1Ak9U7bW6xFU",
        "outputId": "7241fa7c-10d8-4457-ba44-55d275733252"
      },
      "execution_count": 48,
      "outputs": [
        {
          "output_type": "stream",
          "name": "stdout",
          "text": [
            "This is a blog post on Depression in senior citizens \n",
            " Depression in senior citizens is very important  because it can cause many problems to the elderly. It may also lead them into suicide, depression and other mental health issues.\n",
            "The most common causes of this are stressful life events such as death or loss from illnesses that affect their physical well-being.  The second major reason for depressive symptoms among older adults includes financial difficulties caused by declining income due either directly related with aging (e. g., retirement) and/or indirectly through changes occurring within society itself.\n",
            "\n",
            "Depression\n",
            "\n",
            "In general terms there have been several definitions used about what constitutes \"mental distress\" which include both psychological disorders like anxiety disorder/anxiety attacks etc. (which often occur during periods when people feel stressed), but more broadly they encompass any emotional state where one feels depressed. \n",
            "According to:\n",
            "\"The definition given above does not exclude those who experience feelings similar enough at times throughout one's lifetime so long ago...that these experiences do become part...of our identity.... This would be considered 'psychological disability' if we could find no way out without resorting some day someday..... In fact I think it's quite possible someone might develop an eating problem just after being diagnosed....and then later get really sick again - that's called psychopathology!</s>\n"
          ]
        }
      ]
    },
    {
      "cell_type": "code",
      "execution_count": 51,
      "metadata": {
        "id": "Efq6T2pClXzu"
      },
      "outputs": [],
      "source": [
        "sample = model.generate(**input_ids, max_length=2000, num_beams = 2, num_beam_groups = 2, top_k=1, temperature=0.9, repetition_penalty = 2.0, diversity_penalty = 0.9)\n"
      ]
    },
    {
      "cell_type": "code",
      "execution_count": 50,
      "metadata": {
        "colab": {
          "base_uri": "https://localhost:8080/"
        },
        "id": "C79u6bbtk2q4",
        "outputId": "0e323f71-3030-4ff6-8bc6-bec3a3bc4507"
      },
      "outputs": [
        {
          "output_type": "stream",
          "name": "stdout",
          "text": [
            "This is a blog post on Depression in senior citizens \n",
            " Depression in senior citizens is very important  because it can cause many problems to the senior citizens. It can also lead to suicide and other serious problems. So, it is very important to know about depression in senior citizens.\n",
            "The first thing that you should do is to find out if your senior citizen has depression. If yes, then you should take some steps to help him or her get rid of depression. The first step is to talk to him or her about his/her feelings. You can ask him or her about his/her life experiences, hobbies, and so on. You can also ask him or her about his/her daily activities. You can also ask him or her about his/her moods. You can also ask him or her about his/her family members. You can also ask him or her about his/her friends. You can also ask him or her about his/her work. You can also ask him or her about his/her health\n"
          ]
        }
      ],
      "source": [
        "\n",
        "print(tokenizer.decode(sample[0], truncate_before_pattern=[r\"\\n\\n^#\", \"^'''\", \"\\n\\n\\n\"]))"
      ]
    },
    {
      "cell_type": "code",
      "source": [],
      "metadata": {
        "id": "HNJCCYG46mMm"
      },
      "execution_count": 50,
      "outputs": []
    }
  ],
  "metadata": {
    "accelerator": "GPU",
    "colab": {
      "collapsed_sections": [],
      "name": "Generating Blogposts and Articles with BLOOM",
      "provenance": []
    },
    "gpuClass": "standard",
    "kernelspec": {
      "display_name": "Python 3",
      "name": "python3"
    },
    "language_info": {
      "name": "python"
    }
  },
  "nbformat": 4,
  "nbformat_minor": 0
}